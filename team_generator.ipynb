{
 "cells": [
  {
   "cell_type": "code",
   "execution_count": 1,
   "metadata": {},
   "outputs": [],
   "source": [
    "%matplotlib inline\n",
    "import pandas as pd\n",
    "import re\n",
    "from itertools import permutations\n",
    "from pulp import *\n",
    "import numpy as np\n",
    "import random\n",
    "from random import choice\n",
    "\n",
    "from itertools import chain\n",
    "\n",
    "\n",
    "import matplotlib.pyplot as plt\n",
    "import scipy.stats as stats\n",
    "from matplotlib.pyplot import figure\n",
    "\n",
    "# Always make it pretty.\n",
    "plt.style.use('ggplot')"
   ]
  },
  {
   "cell_type": "code",
   "execution_count": 2,
   "metadata": {},
   "outputs": [],
   "source": [
    "#base = pd.read_csv(\"combined_data/combined_data\bbase_pool.csv\")\n",
    "base2 = pd.read_csv('Fantasy_proj/filtered_13.csv')"
   ]
  },
  {
   "cell_type": "code",
   "execution_count": 3,
   "metadata": {},
   "outputs": [
    {
     "data": {
      "text/html": [
       "<div>\n",
       "<style scoped>\n",
       "    .dataframe tbody tr th:only-of-type {\n",
       "        vertical-align: middle;\n",
       "    }\n",
       "\n",
       "    .dataframe tbody tr th {\n",
       "        vertical-align: top;\n",
       "    }\n",
       "\n",
       "    .dataframe thead th {\n",
       "        text-align: right;\n",
       "    }\n",
       "</style>\n",
       "<table border=\"1\" class=\"dataframe\">\n",
       "  <thead>\n",
       "    <tr style=\"text-align: right;\">\n",
       "      <th></th>\n",
       "      <th>Name</th>\n",
       "      <th>Pos</th>\n",
       "      <th>DK points</th>\n",
       "      <th>DK salary</th>\n",
       "    </tr>\n",
       "  </thead>\n",
       "  <tbody>\n",
       "    <tr>\n",
       "      <th>0</th>\n",
       "      <td>Carr, Derek</td>\n",
       "      <td>QB</td>\n",
       "      <td>35.74</td>\n",
       "      <td>5800</td>\n",
       "    </tr>\n",
       "    <tr>\n",
       "      <th>1</th>\n",
       "      <td>Allen, Josh</td>\n",
       "      <td>QB</td>\n",
       "      <td>34.10</td>\n",
       "      <td>7100</td>\n",
       "    </tr>\n",
       "    <tr>\n",
       "      <th>2</th>\n",
       "      <td>Mayfield, Baker</td>\n",
       "      <td>QB</td>\n",
       "      <td>33.46</td>\n",
       "      <td>5300</td>\n",
       "    </tr>\n",
       "    <tr>\n",
       "      <th>3</th>\n",
       "      <td>Tannehill, Ryan</td>\n",
       "      <td>QB</td>\n",
       "      <td>31.56</td>\n",
       "      <td>6200</td>\n",
       "    </tr>\n",
       "    <tr>\n",
       "      <th>4</th>\n",
       "      <td>Stafford, Matthew</td>\n",
       "      <td>QB</td>\n",
       "      <td>30.08</td>\n",
       "      <td>5700</td>\n",
       "    </tr>\n",
       "    <tr>\n",
       "      <th>...</th>\n",
       "      <td>...</td>\n",
       "      <td>...</td>\n",
       "      <td>...</td>\n",
       "      <td>...</td>\n",
       "    </tr>\n",
       "    <tr>\n",
       "      <th>280</th>\n",
       "      <td>Arizona</td>\n",
       "      <td>Def</td>\n",
       "      <td>2.00</td>\n",
       "      <td>2900</td>\n",
       "    </tr>\n",
       "    <tr>\n",
       "      <th>281</th>\n",
       "      <td>Denver</td>\n",
       "      <td>Def</td>\n",
       "      <td>1.00</td>\n",
       "      <td>1900</td>\n",
       "    </tr>\n",
       "    <tr>\n",
       "      <th>282</th>\n",
       "      <td>Dallas</td>\n",
       "      <td>Def</td>\n",
       "      <td>1.00</td>\n",
       "      <td>0</td>\n",
       "    </tr>\n",
       "    <tr>\n",
       "      <th>283</th>\n",
       "      <td>Tennessee</td>\n",
       "      <td>Def</td>\n",
       "      <td>-2.00</td>\n",
       "      <td>2900</td>\n",
       "    </tr>\n",
       "    <tr>\n",
       "      <th>284</th>\n",
       "      <td>LA Chargers</td>\n",
       "      <td>Def</td>\n",
       "      <td>-3.00</td>\n",
       "      <td>2600</td>\n",
       "    </tr>\n",
       "  </tbody>\n",
       "</table>\n",
       "<p>285 rows × 4 columns</p>\n",
       "</div>"
      ],
      "text/plain": [
       "                  Name  Pos  DK points  DK salary\n",
       "0          Carr, Derek   QB      35.74       5800\n",
       "1          Allen, Josh   QB      34.10       7100\n",
       "2      Mayfield, Baker   QB      33.46       5300\n",
       "3      Tannehill, Ryan   QB      31.56       6200\n",
       "4    Stafford, Matthew   QB      30.08       5700\n",
       "..                 ...  ...        ...        ...\n",
       "280            Arizona  Def       2.00       2900\n",
       "281             Denver  Def       1.00       1900\n",
       "282             Dallas  Def       1.00          0\n",
       "283          Tennessee  Def      -2.00       2900\n",
       "284        LA Chargers  Def      -3.00       2600\n",
       "\n",
       "[285 rows x 4 columns]"
      ]
     },
     "execution_count": 3,
     "metadata": {},
     "output_type": "execute_result"
    }
   ],
   "source": [
    "base2"
   ]
  },
  {
   "cell_type": "code",
   "execution_count": 4,
   "metadata": {},
   "outputs": [],
   "source": [
    "#dropping useless column\n",
    "#one =base.drop('Game Info', axis =1)"
   ]
  },
  {
   "cell_type": "code",
   "execution_count": 5,
   "metadata": {},
   "outputs": [],
   "source": [
    "#dropping useless column\n",
    "#two = one.drop('Unnamed: 0', axis =1)"
   ]
  },
  {
   "cell_type": "code",
   "execution_count": 6,
   "metadata": {},
   "outputs": [],
   "source": [
    "#dropping useless column\n",
    "#three= two.drop('TeamAbbrev', axis=1)\n"
   ]
  },
  {
   "cell_type": "code",
   "execution_count": 7,
   "metadata": {},
   "outputs": [],
   "source": [
    "#dropping useless column\n",
    "#four = three.drop('Name + ID', axis=1)"
   ]
  },
  {
   "cell_type": "code",
   "execution_count": 8,
   "metadata": {},
   "outputs": [],
   "source": [
    "\n",
    "#player_arr = four.to_numpy()"
   ]
  },
  {
   "cell_type": "markdown",
   "metadata": {},
   "source": [
    "# creating new dfs for players only of same position \n",
    "## Mental note... Make function where we can drop by column names in the future "
   ]
  },
  {
   "cell_type": "code",
   "execution_count": 9,
   "metadata": {},
   "outputs": [
    {
     "data": {
      "text/html": [
       "<div>\n",
       "<style scoped>\n",
       "    .dataframe tbody tr th:only-of-type {\n",
       "        vertical-align: middle;\n",
       "    }\n",
       "\n",
       "    .dataframe tbody tr th {\n",
       "        vertical-align: top;\n",
       "    }\n",
       "\n",
       "    .dataframe thead th {\n",
       "        text-align: right;\n",
       "    }\n",
       "</style>\n",
       "<table border=\"1\" class=\"dataframe\">\n",
       "  <thead>\n",
       "    <tr style=\"text-align: right;\">\n",
       "      <th></th>\n",
       "      <th>Name</th>\n",
       "      <th>Pos</th>\n",
       "      <th>DK points</th>\n",
       "      <th>DK salary</th>\n",
       "    </tr>\n",
       "  </thead>\n",
       "  <tbody>\n",
       "    <tr>\n",
       "      <th>255</th>\n",
       "      <td>New England</td>\n",
       "      <td>Def</td>\n",
       "      <td>31.0</td>\n",
       "      <td>2400</td>\n",
       "    </tr>\n",
       "    <tr>\n",
       "      <th>256</th>\n",
       "      <td>Jacksonville</td>\n",
       "      <td>Def</td>\n",
       "      <td>14.0</td>\n",
       "      <td>2000</td>\n",
       "    </tr>\n",
       "    <tr>\n",
       "      <th>257</th>\n",
       "      <td>Miami</td>\n",
       "      <td>Def</td>\n",
       "      <td>14.0</td>\n",
       "      <td>4400</td>\n",
       "    </tr>\n",
       "    <tr>\n",
       "      <th>258</th>\n",
       "      <td>Minnesota</td>\n",
       "      <td>Def</td>\n",
       "      <td>13.0</td>\n",
       "      <td>3500</td>\n",
       "    </tr>\n",
       "    <tr>\n",
       "      <th>259</th>\n",
       "      <td>New York G</td>\n",
       "      <td>Def</td>\n",
       "      <td>13.0</td>\n",
       "      <td>2200</td>\n",
       "    </tr>\n",
       "    <tr>\n",
       "      <th>260</th>\n",
       "      <td>Indianapolis</td>\n",
       "      <td>Def</td>\n",
       "      <td>12.0</td>\n",
       "      <td>3000</td>\n",
       "    </tr>\n",
       "    <tr>\n",
       "      <th>261</th>\n",
       "      <td>LA Rams</td>\n",
       "      <td>Def</td>\n",
       "      <td>11.0</td>\n",
       "      <td>3200</td>\n",
       "    </tr>\n",
       "    <tr>\n",
       "      <th>262</th>\n",
       "      <td>Green Bay</td>\n",
       "      <td>Def</td>\n",
       "      <td>10.0</td>\n",
       "      <td>3800</td>\n",
       "    </tr>\n",
       "    <tr>\n",
       "      <th>263</th>\n",
       "      <td>Seattle</td>\n",
       "      <td>Def</td>\n",
       "      <td>9.0</td>\n",
       "      <td>3300</td>\n",
       "    </tr>\n",
       "    <tr>\n",
       "      <th>264</th>\n",
       "      <td>Las Vegas</td>\n",
       "      <td>Def</td>\n",
       "      <td>8.0</td>\n",
       "      <td>3400</td>\n",
       "    </tr>\n",
       "    <tr>\n",
       "      <th>265</th>\n",
       "      <td>Philadelphia</td>\n",
       "      <td>Def</td>\n",
       "      <td>7.0</td>\n",
       "      <td>2300</td>\n",
       "    </tr>\n",
       "    <tr>\n",
       "      <th>266</th>\n",
       "      <td>New Orleans</td>\n",
       "      <td>Def</td>\n",
       "      <td>6.0</td>\n",
       "      <td>3600</td>\n",
       "    </tr>\n",
       "    <tr>\n",
       "      <th>267</th>\n",
       "      <td>New York J</td>\n",
       "      <td>Def</td>\n",
       "      <td>5.0</td>\n",
       "      <td>2100</td>\n",
       "    </tr>\n",
       "    <tr>\n",
       "      <th>268</th>\n",
       "      <td>Detroit</td>\n",
       "      <td>Def</td>\n",
       "      <td>5.0</td>\n",
       "      <td>2500</td>\n",
       "    </tr>\n",
       "    <tr>\n",
       "      <th>269</th>\n",
       "      <td>Cleveland</td>\n",
       "      <td>Def</td>\n",
       "      <td>5.0</td>\n",
       "      <td>2500</td>\n",
       "    </tr>\n",
       "    <tr>\n",
       "      <th>270</th>\n",
       "      <td>Kansas City</td>\n",
       "      <td>Def</td>\n",
       "      <td>5.0</td>\n",
       "      <td>3700</td>\n",
       "    </tr>\n",
       "    <tr>\n",
       "      <th>271</th>\n",
       "      <td>Buffalo</td>\n",
       "      <td>Def</td>\n",
       "      <td>4.0</td>\n",
       "      <td>2700</td>\n",
       "    </tr>\n",
       "    <tr>\n",
       "      <th>272</th>\n",
       "      <td>Atlanta</td>\n",
       "      <td>Def</td>\n",
       "      <td>4.0</td>\n",
       "      <td>2400</td>\n",
       "    </tr>\n",
       "    <tr>\n",
       "      <th>273</th>\n",
       "      <td>Baltimore</td>\n",
       "      <td>Def</td>\n",
       "      <td>4.0</td>\n",
       "      <td>0</td>\n",
       "    </tr>\n",
       "    <tr>\n",
       "      <th>274</th>\n",
       "      <td>Cincinnati</td>\n",
       "      <td>Def</td>\n",
       "      <td>3.0</td>\n",
       "      <td>2300</td>\n",
       "    </tr>\n",
       "    <tr>\n",
       "      <th>275</th>\n",
       "      <td>Houston</td>\n",
       "      <td>Def</td>\n",
       "      <td>3.0</td>\n",
       "      <td>2800</td>\n",
       "    </tr>\n",
       "    <tr>\n",
       "      <th>276</th>\n",
       "      <td>Chicago</td>\n",
       "      <td>Def</td>\n",
       "      <td>3.0</td>\n",
       "      <td>3100</td>\n",
       "    </tr>\n",
       "    <tr>\n",
       "      <th>277</th>\n",
       "      <td>Washington</td>\n",
       "      <td>Def</td>\n",
       "      <td>3.0</td>\n",
       "      <td>2700</td>\n",
       "    </tr>\n",
       "    <tr>\n",
       "      <th>278</th>\n",
       "      <td>Pittsburgh</td>\n",
       "      <td>Def</td>\n",
       "      <td>3.0</td>\n",
       "      <td>4300</td>\n",
       "    </tr>\n",
       "    <tr>\n",
       "      <th>279</th>\n",
       "      <td>San Francisco</td>\n",
       "      <td>Def</td>\n",
       "      <td>2.0</td>\n",
       "      <td>2500</td>\n",
       "    </tr>\n",
       "    <tr>\n",
       "      <th>280</th>\n",
       "      <td>Arizona</td>\n",
       "      <td>Def</td>\n",
       "      <td>2.0</td>\n",
       "      <td>2900</td>\n",
       "    </tr>\n",
       "    <tr>\n",
       "      <th>281</th>\n",
       "      <td>Denver</td>\n",
       "      <td>Def</td>\n",
       "      <td>1.0</td>\n",
       "      <td>1900</td>\n",
       "    </tr>\n",
       "    <tr>\n",
       "      <th>282</th>\n",
       "      <td>Dallas</td>\n",
       "      <td>Def</td>\n",
       "      <td>1.0</td>\n",
       "      <td>0</td>\n",
       "    </tr>\n",
       "    <tr>\n",
       "      <th>283</th>\n",
       "      <td>Tennessee</td>\n",
       "      <td>Def</td>\n",
       "      <td>-2.0</td>\n",
       "      <td>2900</td>\n",
       "    </tr>\n",
       "    <tr>\n",
       "      <th>284</th>\n",
       "      <td>LA Chargers</td>\n",
       "      <td>Def</td>\n",
       "      <td>-3.0</td>\n",
       "      <td>2600</td>\n",
       "    </tr>\n",
       "  </tbody>\n",
       "</table>\n",
       "</div>"
      ],
      "text/plain": [
       "              Name  Pos  DK points  DK salary\n",
       "255    New England  Def       31.0       2400\n",
       "256   Jacksonville  Def       14.0       2000\n",
       "257          Miami  Def       14.0       4400\n",
       "258      Minnesota  Def       13.0       3500\n",
       "259     New York G  Def       13.0       2200\n",
       "260   Indianapolis  Def       12.0       3000\n",
       "261        LA Rams  Def       11.0       3200\n",
       "262      Green Bay  Def       10.0       3800\n",
       "263        Seattle  Def        9.0       3300\n",
       "264      Las Vegas  Def        8.0       3400\n",
       "265   Philadelphia  Def        7.0       2300\n",
       "266    New Orleans  Def        6.0       3600\n",
       "267     New York J  Def        5.0       2100\n",
       "268        Detroit  Def        5.0       2500\n",
       "269      Cleveland  Def        5.0       2500\n",
       "270    Kansas City  Def        5.0       3700\n",
       "271        Buffalo  Def        4.0       2700\n",
       "272        Atlanta  Def        4.0       2400\n",
       "273      Baltimore  Def        4.0          0\n",
       "274     Cincinnati  Def        3.0       2300\n",
       "275        Houston  Def        3.0       2800\n",
       "276        Chicago  Def        3.0       3100\n",
       "277     Washington  Def        3.0       2700\n",
       "278     Pittsburgh  Def        3.0       4300\n",
       "279  San Francisco  Def        2.0       2500\n",
       "280        Arizona  Def        2.0       2900\n",
       "281         Denver  Def        1.0       1900\n",
       "282         Dallas  Def        1.0          0\n",
       "283      Tennessee  Def       -2.0       2900\n",
       "284    LA Chargers  Def       -3.0       2600"
      ]
     },
     "execution_count": 9,
     "metadata": {},
     "output_type": "execute_result"
    }
   ],
   "source": [
    "# qbs= four[four.Position == 'QB']\n",
    "# rbs= four[four.Position == 'RB'].drop('ID', axis =1)\n",
    "# wrs= four[four.Position == 'WR'].drop('ID', axis =1)\n",
    "# tes= four[four.Position == 'TE'].drop('ID', axis =1)\n",
    "# #flex= four[four.Position == 'WR'].drop('ID', axis =1)\n",
    "\n",
    "# #flex = four[four.Position == 'WR' or four[four.Position == 'Rb']\n",
    "            \n",
    "# flex = four[(four.Position == 'WR') | (four.Position == 'RB')]\n",
    "# defs = four[four.Position == 'DST'].drop('ID', axis =1)\n",
    "\n",
    "# qbs = qbs.drop('ID', axis = 1)\n",
    "\n",
    "# #had to drop ID off Flex DB again\n",
    "# flex_no_id =flex.drop('ID', axis =1)\n",
    "\n",
    "\n",
    "# code above is using another DF \n",
    "\n",
    "\n",
    "qbs= base2[base2.Pos == 'QB']\n",
    "rbs= base2[base2.Pos == 'RB']\n",
    "wrs= base2[base2.Pos == 'WR']\n",
    "tes= base2[base2.Pos == 'TE']\n",
    "flex = base2[(base2.Pos == 'WR') | (base2.Pos == 'RB')]\n",
    "defs = base2[base2.Pos == 'Def']\n",
    "\n",
    "\n",
    "#creating top 5 df for each position sorted by salary\n",
    "\n",
    "\n",
    "rb_sorted = rbs.sort_values('DK salary', ascending = False ).reset_index(drop=True)\n",
    "\n",
    "wr_sorted = wrs.sort_values('DK salary', ascending = False ).reset_index(drop=True)\n",
    "\n",
    "te_sorted = tes.sort_values('DK salary', ascending = False ).reset_index(drop=True)\n",
    "\n",
    "qbs_sorted = qbs.sort_values('DK salary', ascending = False ).reset_index(drop=True)\n",
    "\n",
    "\n",
    "\n",
    "defs"
   ]
  },
  {
   "cell_type": "markdown",
   "metadata": {},
   "source": [
    "# creating df of only top 5 to be turned into a np array later\n",
    "\n"
   ]
  },
  {
   "cell_type": "code",
   "execution_count": 10,
   "metadata": {},
   "outputs": [],
   "source": [
    "top_rb = rb_sorted.loc[0:4]\n",
    "top_qb = qbs_sorted.loc[0:4]\n",
    "top_wr = wr_sorted.loc[0:4]\n",
    "top_te = te_sorted.loc[0:4]\n"
   ]
  },
  {
   "cell_type": "markdown",
   "metadata": {},
   "source": [
    "# Converting each df of specific player positions into numpy arrays"
   ]
  },
  {
   "cell_type": "code",
   "execution_count": 162,
   "metadata": {},
   "outputs": [],
   "source": [
    "#creating numpy arrays of each type of player to randomly generate teams inside of  function.\n",
    "\n",
    "#regular df all players for that position\n",
    "# qbs\n",
    "# rbs \n",
    "# wrs \n",
    "# tes\n",
    "# flex \n",
    "#defs\n",
    "\n",
    "\n",
    "#top 5 player dfs \n",
    "\n",
    "# top_rb \n",
    "# top_qb \n",
    "# top_wr \n",
    "# top_te \n",
    "\n",
    "\n",
    "#converting top 5 dfs into numpy array\n",
    "qb_top_arr = top_qb .to_numpy()\n",
    "wr_top_arr = top_wr.to_numpy()\n",
    "rb_top_arr = top_rb.to_numpy()\n",
    "te_top_arr = top_te.to_numpy()\n",
    "\n",
    "\n",
    "# above is for referencing df name to convert to numpy\n",
    "\n",
    "qb_arr = qbs.to_numpy()\n",
    "wr_arr = wrs.to_numpy()\n",
    "rb_arr = rbs.to_numpy()\n",
    "te_arr = tes.to_numpy()\n",
    "flex_arr =flex.to_numpy()\n",
    "def_array = defs.to_numpy()\n",
    "\n",
    "\n"
   ]
  },
  {
   "cell_type": "code",
   "execution_count": null,
   "metadata": {},
   "outputs": [],
   "source": []
  },
  {
   "cell_type": "code",
   "execution_count": null,
   "metadata": {},
   "outputs": [],
   "source": []
  },
  {
   "cell_type": "code",
   "execution_count": 165,
   "metadata": {},
   "outputs": [
    {
     "data": {
      "text/plain": [
       "(164.2,\n",
       " [array(['Rivers, Philip', 'QB', 19.2, 5900], dtype=object),\n",
       "  array(['Boyd, Tyler', 'WR', 14.2, 4700], dtype=object),\n",
       "  array(['Watkins, Sammy', 'WR', 7.5, 4800], dtype=object),\n",
       "  array(['Gage, Russell', 'WR', 15.1, 4500], dtype=object),\n",
       "  array(['Cook, Dalvin', 'RB', 26.9, 9500], dtype=object),\n",
       "  array(['Robinson, James', 'RB', 22.8, 7300], dtype=object),\n",
       "  array([\"Bell, Le'Veon\", 'RB', 7.5, 4400], dtype=object),\n",
       "  array(['Waller, Darren', 'TE', 48.0, 6100], dtype=object),\n",
       "  array(['Houston', 'Def', 3.0, 2800], dtype=object)])"
      ]
     },
     "execution_count": 165,
     "metadata": {},
     "output_type": "execute_result"
    }
   ],
   "source": [
    "#Function that generates a random team of daily fantasy football players.... duplicate teams not considered\n",
    "#It is very unlikely to generate two of the exact same team.\n",
    "\n",
    "def team_generator(qb, wr, rb, flex, te, defense):\n",
    "    team_list = []\n",
    "    \n",
    "    \n",
    "    \n",
    "    #Targeting the rows of QB player information from each array\n",
    "    qb_rows = qb.shape[0]\n",
    "    random_indices = np.random.choice(qb_rows, size=1, replace=False)\n",
    "    qb_rows = qb[random_indices, :]\n",
    "    \n",
    "    \n",
    "    #Targeting the rows of WR player information from each array\n",
    "    wr_rows = wr.shape[0]\n",
    "    random_indices = np.random.choice(wr_rows, size=3, replace=False)\n",
    "    wr_rows = wr[random_indices, :]\n",
    "    \n",
    "    #Targeting the rows of RB player information from each array\n",
    "    rb_rows = rb.shape[0]\n",
    "    random_indices = np.random.choice(rb_rows, size=2, replace=False)\n",
    "    rb_rows = rb[random_indices, :]\n",
    "    \n",
    "    \n",
    "    #Targeting the rows of FLEX player information from each array\n",
    "    flex_rows = flex.shape[0]\n",
    "    random_indices = np.random.choice(flex_rows, size=1, replace=False)\n",
    "    flex_rows = flex[random_indices, :]\n",
    "    \n",
    "    \n",
    "    #Targeting the rows of TE player information from each array\n",
    "    te_rows = te.shape[0]\n",
    "    random_indices = np.random.choice(te_rows, size=1, replace=False)\n",
    "    te_rows = te[random_indices, :]\n",
    "    \n",
    "    #Targeting rows of defenses available\n",
    "    def_rows = defense.shape[0]\n",
    "    random_indices = np.random.choice(def_rows, size=1, replace=False)\n",
    "    def_rows = defense[random_indices, :]\n",
    "    \n",
    "    \n",
    "    \n",
    "    # appending each row to team list for player position to create a team\n",
    "    team_list.append(qb_rows)\n",
    "    team_list.append(wr_rows)\n",
    "    team_list.append(rb_rows)\n",
    "    team_list.append(flex_rows)\n",
    "    team_list.append(te_rows)\n",
    "    team_list.append(def_rows)\n",
    "    \n",
    "    #unpacking team list for nested lists\n",
    "    unpack_team = list(chain.from_iterable(team_list))\n",
    "    \n",
    "    un_pack_pd = pd.DataFrame(unpack_team)\n",
    "    \n",
    "     \n",
    "        \n",
    "    salary_total = un_pack_pd[3].sum()\n",
    "    \n",
    "    point_total = un_pack_pd[2].sum()\n",
    "    \n",
    "    \n",
    "    \n",
    " \n",
    "    \n",
    "    if (salary_total < 44000) or (salary_total > 50000):\n",
    "        \n",
    "        team_list.clear()\n",
    "        \n",
    "        return team_generator(qb, wr, rb, flex, te, defense)\n",
    "        \n",
    "        \n",
    "    else:\n",
    "        \n",
    "        return point_total, unpack_team\n",
    "\n",
    "    \n",
    "    \n",
    "point_total = team_generator(qb_arr, wr_arr, rb_top_arr, flex_arr, te_top_arr, def_array)\n",
    "\n",
    "\n",
    "\n",
    "\n",
    "point_total\n",
    "\n"
   ]
  },
  {
   "cell_type": "code",
   "execution_count": 39,
   "metadata": {},
   "outputs": [
    {
     "data": {
      "text/plain": [
       "count    1000.000000\n",
       "mean      119.119560\n",
       "std        25.497182\n",
       "min        52.220000\n",
       "25%       100.855000\n",
       "50%       117.970000\n",
       "75%       136.180000\n",
       "max       213.080000\n",
       "dtype: float64"
      ]
     },
     "execution_count": 39,
     "metadata": {},
     "output_type": "execute_result"
    }
   ],
   "source": [
    "#function that generates 1000 different samples\n",
    "\n",
    "def sample_generator(samples = 1000):\n",
    "\n",
    "    sample_list = []\n",
    "    \n",
    "    #generating 1000 samples by calling team generator function:\n",
    "    \n",
    "    for _ in range(samples):\n",
    "        sample_list.append(team_generator(qb_arr, wr_arr, rb_arr, flex_arr, te_top_arr, def_array))\n",
    "        \n",
    "    unpack_samples = list(chain.from_iterable(sample_list))\n",
    "    \n",
    "    convert_to_pd = pd.DataFrame(unpack_samples)\n",
    "    \n",
    "#     convert_to_pd.columns = ['pos', 'name', 'fant_pos', 'salary', 'proj_point']\n",
    "    \n",
    "    salary_series = pd.Series(sample_list)\n",
    "    \n",
    "    return salary_series, unpack_samples\n",
    "\n",
    "\n",
    "salary, teams  = sample_generator(1000)\n",
    "\n",
    "\n",
    "#team_samps, salary_list  = sample_generator(10)\n",
    "\n",
    "\n"
   ]
  },
  {
   "cell_type": "code",
   "execution_count": 130,
   "metadata": {},
   "outputs": [
    {
     "data": {
      "text/plain": [
       "0       87.34\n",
       "1       67.52\n",
       "2      136.24\n",
       "3      108.24\n",
       "4       87.88\n",
       "        ...  \n",
       "995    179.50\n",
       "996    104.86\n",
       "997    147.26\n",
       "998    130.70\n",
       "999     70.42\n",
       "Length: 1000, dtype: float64"
      ]
     },
     "execution_count": 130,
     "metadata": {},
     "output_type": "execute_result"
    }
   ],
   "source": [
    "tte"
   ]
  },
  {
   "cell_type": "markdown",
   "metadata": {},
   "source": [
    "#creating different samples for each filter case on base pool"
   ]
  },
  {
   "cell_type": "code",
   "execution_count": 40,
   "metadata": {},
   "outputs": [],
   "source": [
    "# # base pool is where no players are filtered\n",
    "base_pool = bs\n",
    "\n",
    "#print (base_pool.describe())\n",
    "\n",
    "\n",
    "# # # # player pool is where qbs are filtered for only top 5\n",
    "qb_samples  = qqb\n",
    "\n",
    "# print (qb_samples.describe())\n",
    "\n",
    "# # # player pool is where wrs are filtered for only top 5\n",
    "wr_samples = wwr\n",
    "# print (wr_samples.describe())\n",
    "\n",
    "# # # player pool is where rbs are filtered for only top 5\n",
    "rb_samples = rrb\n",
    "# print (rb_samples.describe())\n",
    "\n",
    "# # # player pool is where tes are filtered for only top 5\n",
    "te_samples = tte\n",
    "# print (te_samples.describe())\n",
    "\n",
    "# qb_samples \n"
   ]
  },
  {
   "cell_type": "code",
   "execution_count": 41,
   "metadata": {},
   "outputs": [
    {
     "data": {
      "text/plain": [
       "count    1000.000000\n",
       "mean      107.636920\n",
       "std        22.934899\n",
       "min        54.920000\n",
       "25%        91.740000\n",
       "50%       106.070000\n",
       "75%       122.400000\n",
       "max       209.720000\n",
       "dtype: float64"
      ]
     },
     "execution_count": 41,
     "metadata": {},
     "output_type": "execute_result"
    }
   ],
   "source": [
    "qb_samples.describe()"
   ]
  },
  {
   "cell_type": "code",
   "execution_count": 129,
   "metadata": {},
   "outputs": [
    {
     "data": {
      "image/png": "[encoded data removed]",
      "text/plain": [
       "<Figure size 720x648 with 1 Axes>"
      ]
     },
     "metadata": {},
     "output_type": "display_data"
    }
   ],
   "source": [
    "import math\n",
    "x = ['Base Pool', 'Top 5 QBs', 'Top 5 WRs', 'Top 5 RBs', 'Top 5 TEs']\n",
    "ave_score = [110.54, 111.18, 111.95, 119.79, 118.10]\n",
    "sd = [19.64, 19.37, 18.76, 22.11, 25.97]\n",
    "\n",
    "maxy = [178.94, 178.90, 170.54, 198.68, 202.38]\n",
    "\n",
    "mini = [64.24, 66.62, 61.98, 48.16, 35.34  ]\n",
    "\n",
    "x_pos = np.arange(1,6)\n",
    "\n",
    "\n",
    "plt.bar(x_pos, ave_score, color=['lightsteelblue', 'slategray', 'cornflowerblue', 'mediumblue', 'green'], yerr=sd, linewidth=20)\n",
    "plt.xlabel(\"Filtered Teams\", fontsize=18, weight = 'bold')\n",
    "plt.ylabel(\"Average Score\", fontsize=18, weight = 'bold')\n",
    "plt.title(\"Week 13 Sample Team Averages\", fontsize=22)\n",
    "plt.rcParams[\"figure.figsize\"] = (10,9)\n",
    "\n",
    "\n",
    "\n",
    "\n",
    "\n",
    "\n",
    "low = min(ave_score)\n",
    "high = max(ave_score)\n",
    "plt.ylim([math.ceil(low-4*(high-low)), math.ceil(high+3*(high-low))])\n",
    "\n",
    "\n",
    "\n",
    "\n",
    "plt.xticks(x_pos, x, fontsize = 14, weight = 'bold')\n",
    "\n",
    "plt.show()\n",
    "\n",
    "#interval standard deviation from mean"
   ]
  },
  {
   "cell_type": "code",
   "execution_count": 43,
   "metadata": {},
   "outputs": [],
   "source": [
    "#plt.bar([1,2,3,4], [2,2.5,5,3], bottom=[0,-1,1,2])"
   ]
  },
  {
   "cell_type": "code",
   "execution_count": 44,
   "metadata": {
    "scrolled": false
   },
   "outputs": [
    {
     "data": {
      "image/png": "[encoded data removed]",
      "text/plain": [
       "<Figure size 648x576 with 1 Axes>"
      ]
     },
     "metadata": {
      "needs_background": "light"
     },
     "output_type": "display_data"
    }
   ],
   "source": [
    "import matplotlib.pyplot as plt \n",
    "import numpy as np \n",
    " \n",
    "    \n",
    "x = ['Base Pool', 'Top 5 QBs', 'Top 5 WRs', 'Top 5 RBs', 'Top 5 TEs']\n",
    "ave_score = [110.54, 111.18, 111.95, 119.79, 118.10]\n",
    "sd = [19.64, 19.37, 18.76, 22.11, 25.97]\n",
    "\n",
    "maxy = [178.94, 178.90, 170.54, 198.68, 202.38]\n",
    "\n",
    "mini = [64.24, 66.62, 61.98, 48.16, 35.34  ]\n",
    "\n",
    "x_pos = np.arange(1,6)\n",
    "\n",
    "\n",
    "# Creating dataset \n",
    "data = [base_pool, qb_samples, wr_samples, rb_samples, te_samples] \n",
    "  \n",
    "fig = plt.figure(figsize =(9, 8)) \n",
    "ax = fig.add_subplot(111) \n",
    "  \n",
    "# Creating axes instance \n",
    "bp = ax.boxplot(data, patch_artist = True, bootstrap=1000, \n",
    "                notch ='True', vert = 1, widths=.7 )\n",
    "  \n",
    "colors = ['lightsteelblue', 'slategray', 'cornflowerblue', 'mediumblue', 'green'] \n",
    "  \n",
    "for patch, color in zip(bp['boxes'], colors): \n",
    "    patch.set_facecolor(color) \n",
    "  \n",
    "# changing color and linewidth of \n",
    "# whiskers \n",
    "for whisker in bp['whiskers']: \n",
    "    whisker.set(color ='#8B008B', \n",
    "                linewidth = 1.5, \n",
    "                linestyle =\":\") \n",
    "  \n",
    "# changing color and linewidth of \n",
    "# caps \n",
    "for cap in bp['caps']: \n",
    "    cap.set(color ='#8B008B', \n",
    "            linewidth = 2) \n",
    "  \n",
    "# changing color and linewidth of \n",
    "# medians \n",
    "for median in bp['medians']: \n",
    "    median.set(color ='red', \n",
    "               linewidth = 3) \n",
    "  \n",
    "# changing style of fliers \n",
    "for flier in bp['fliers']: \n",
    "    flier.set(marker ='D', \n",
    "              color ='#e7298a', \n",
    "              alpha = 0.5) \n",
    "      \n",
    "plt.xlabel(\"Sample Groups\", fontsize=18, weight = 'bold')\n",
    "plt.ylabel(\"Team Scores\", fontsize=18, weight = 'bold')\n",
    "\n",
    "\n",
    "\n",
    "\n",
    "y=160  \n",
    "h=210\n",
    "# Adding title  \n",
    "plt.title(\"Week 13 Sample Team Scores\", fontsize=22)\n",
    "plt.xticks(x_pos, x, fontsize = 12, weight = 'bold')\n",
    "plt.axhline(y=y, color='g', linestyle='-', alpha = .4, label = '$$')\n",
    "#plt.text(4, 1, ' somelabel1', ha='left', va='center')\n",
    "fig.patch.set_alpha(0.1)\n",
    "fig.set_facecolor('b')\n",
    "\n",
    "\n",
    "plt.yticks(fontsize =12 , weight = 'bold')\n",
    "\n",
    "#plt.text('$$', ha='left', va='center')\n",
    "\n",
    "plt.setp( ax.xaxis.get_majorticklabels(), rotation=-45, ha=\"left\", rotation_mode=\"anchor\")   \n",
    "\n",
    "\n",
    "      \n",
    "# show plot \n",
    "plt.show(bp) "
   ]
  },
  {
   "cell_type": "markdown",
   "metadata": {},
   "source": [
    "# Comparing Filtered Pools Against base pool"
   ]
  },
  {
   "cell_type": "code",
   "execution_count": 137,
   "metadata": {
    "scrolled": false
   },
   "outputs": [
    {
     "name": "stdout",
     "output_type": "stream",
     "text": [
      "None\n"
     ]
    },
    {
     "data": {
      "image/png": "[encoded data removed]",
      "text/plain": [
       "<Figure size 720x648 with 1 Axes>"
      ]
     },
     "metadata": {
      "needs_background": "light"
     },
     "output_type": "display_data"
    }
   ],
   "source": [
    "def plot_compare(base_pool, player_pool, support = np.linspace(30, 210, 1000)):\n",
    "\n",
    "\n",
    "    #creating distribution and variable to plot\n",
    "    \n",
    "    player_pool_dist = stats.norm(player_pool.mean(), player_pool.std() )\n",
    "    base_dist = stats.norm(base_pool.mean(), base_pool.std())\n",
    "    \n",
    "    \n",
    "    #creating PDF for pool to go along with support \n",
    "    compare_pdf = player_pool_dist.pdf(support)\n",
    "    base_pdf = base_dist.pdf(support)\n",
    "    \n",
    "    # Creating a plot\n",
    "    fig,ax = plt.subplots()\n",
    "\n",
    "    ax.plot(support, compare_pdf, color='blue', label='QBs')\n",
    "    ax.fill(support, compare_pdf, color='blue', alpha=0.2)\n",
    "    ax.plot(support, base_pdf, color='red', label='Base')\n",
    "    ax.fill(support, base_pdf, color='red', alpha=0.2)\n",
    "    ax.legend()\n",
    "    fig.patch.set_alpha(0.1)\n",
    "    fig.set_facecolor('b')\n",
    "    plt.xlabel(\"POINT TOTALS\", fontsize=18, weight = 'bold')\n",
    "    plt.xticks(fontsize = 12, weight = 'bold')\n",
    "    #ax.axvspan(base.mean(), te_samples.mean(), ymin=.046, alpha=0.2, color='black')\n",
    "    #ax.fill_between(base.mean(), te_samples.mean())\n",
    "    \n",
    "    ax.set_title(\"Top 5 TEs vs Base Player Pool\", fontsize=22)\n",
    "    #ax.axvline(critical_value1, alpha = .5)\n",
    "    \n",
    "    ax.axvline(x = base_pool.mean(), ymin=.046, ymax = .904, color='red', alpha = .5, linestyle = '--')\n",
    "    ax.axvline(x = player_pool.mean(), ymin=.046, ymax = .95, color='blue', alpha = .5, linestyle = '--')\n",
    "    \n",
    "#     ax.fill(np.append(critical_value1, support), \n",
    "#             np.append(0, compare_pdf ), color='blue', alpha=0.5)\n",
    "    \n",
    "    \n",
    "    \n",
    "print (plot_compare(base, rb_samples))"
   ]
  },
  {
   "cell_type": "code",
   "execution_count": 68,
   "metadata": {},
   "outputs": [
    {
     "name": "stdout",
     "output_type": "stream",
     "text": [
      "0.558732964699757\n",
      "117.14387471830368\n"
     ]
    },
    {
     "data": {
      "text/plain": [
       "150.12526172214473"
      ]
     },
     "execution_count": 68,
     "metadata": {},
     "output_type": "execute_result"
    }
   ],
   "source": [
    "# base pool vs top 5 RBs\n",
    "# initial test base pool vs qbs\n",
    "qb_dist = stats.norm(qb_samples.mean(), qb_samples.std() )\n",
    "base = stats.norm(base_pool.mean(), base_pool.std())\n",
    "\n",
    "support = np.linspace(25, 220, 1000)\n",
    "\n",
    "qb_pdf = qb_dist.pdf(support)\n",
    "base_pdf = base.pdf(support)\n",
    "\n",
    "\n",
    "print(1 - base.cdf(qb_samples.mean()))\n",
    "\n",
    "# what's the threshhold at alpha = 0.05\n",
    "print(base.ppf(0.60))\n",
    "n=1000\n",
    "\n",
    "critical_value1 = stats.norm(base_pool.mean(), base_pool.std()).ppf(0.95)\n",
    "critical_value1\n",
    "\n",
    "critical_value_dist = stats.norm(0.3, qb_samples.std())\n",
    "critical_value = critical_value_dist.ppf(0.95)\n",
    "\n",
    "critical_value1"
   ]
  },
  {
   "cell_type": "code",
   "execution_count": 53,
   "metadata": {},
   "outputs": [],
   "source": [
    "#seeing what sample size is needed to determine if qb sample mean is actually different than the base pool\n",
    "\n",
    "\n",
    "def sample_size(sigma, alpha, beta, effect_size):\n",
    "    '''\n",
    "    Get the required sample size for a given sigma, alpha, beta, and effect size\n",
    "    \n",
    "    Parameters:\n",
    "    ----------\n",
    "    sigma (float): the standard deviation of the population\n",
    "    alpha (float): the maximum acceptable false positive rate\n",
    "    beta (float): the maximum acceptable false negative rate\n",
    "    effect_size (float): minimum true distance between null hypothesis mean and alternative hypothesis mean\n",
    "    \n",
    "    Returns:\n",
    "    --------\n",
    "    n (int): sample size \n",
    "    '''\n",
    "    standard_normal = stats.norm(0,1)\n",
    "    \n",
    "    sample_size_float = (sigma * (standard_normal.ppf(1-alpha) - standard_normal.ppf(beta)) / effect_size) **2\n",
    "    n = int(sample_size_float)\n",
    "    \n",
    "    return(n)"
   ]
  },
  {
   "cell_type": "code",
   "execution_count": 54,
   "metadata": {},
   "outputs": [
    {
     "data": {
      "text/plain": [
       "1000"
      ]
     },
     "execution_count": 54,
     "metadata": {},
     "output_type": "execute_result"
    }
   ],
   "source": [
    "sample_size(19.64, 0.05, 0.1, 1.817)"
   ]
  },
  {
   "cell_type": "code",
   "execution_count": 143,
   "metadata": {},
   "outputs": [
    {
     "data": {
      "text/plain": [
       "F_onewayResult(statistic=52.55303934909718, pvalue=5.95772683661343e-13)"
      ]
     },
     "execution_count": 143,
     "metadata": {},
     "output_type": "execute_result"
    }
   ],
   "source": [
    "stats.f_oneway(base_pool, te_samples)"
   ]
  },
  {
   "cell_type": "code",
   "execution_count": 144,
   "metadata": {},
   "outputs": [
    {
     "data": {
      "text/plain": [
       "Ttest_indResult(statistic=-7.249347511955615, pvalue=5.957726836616097e-13)"
      ]
     },
     "execution_count": 144,
     "metadata": {},
     "output_type": "execute_result"
    }
   ],
   "source": [
    "stats.ttest_ind(base_pool, te_samples)"
   ]
  },
  {
   "cell_type": "code",
   "execution_count": 145,
   "metadata": {},
   "outputs": [
    {
     "data": {
      "text/plain": [
       "Ttest_indResult(statistic=3.357846009870451, pvalue=0.000800262874062739)"
      ]
     },
     "execution_count": 145,
     "metadata": {},
     "output_type": "execute_result"
    }
   ],
   "source": [
    "stats.ttest_ind(base_pool, qb_samples)"
   ]
  },
  {
   "cell_type": "code",
   "execution_count": 146,
   "metadata": {},
   "outputs": [
    {
     "data": {
      "text/plain": [
       "Ttest_indResult(statistic=-8.6441945913627, pvalue=1.0910917663295008e-17)"
      ]
     },
     "execution_count": 146,
     "metadata": {},
     "output_type": "execute_result"
    }
   ],
   "source": [
    "stats.ttest_ind(base_pool, rb_samples)"
   ]
  },
  {
   "cell_type": "code",
   "execution_count": 147,
   "metadata": {},
   "outputs": [
    {
     "data": {
      "text/plain": [
       "Ttest_indResult(statistic=0.11571656241969287, pvalue=0.9078888079698677)"
      ]
     },
     "execution_count": 147,
     "metadata": {},
     "output_type": "execute_result"
    }
   ],
   "source": [
    "stats.ttest_ind(base_pool, wr_samples)"
   ]
  },
  {
   "cell_type": "code",
   "execution_count": null,
   "metadata": {},
   "outputs": [],
   "source": []
  }
 ],
 "metadata": {
  "kernelspec": {
   "display_name": "Python 3",
   "language": "python",
   "name": "python3"
  },
  "language_info": {
   "codemirror_mode": {
    "name": "ipython",
    "version": 3
   },
   "file_extension": ".py",
   "mimetype": "text/x-python",
   "name": "python",
   "nbconvert_exporter": "python",
   "pygments_lexer": "ipython3",
   "version": "3.7.7"
  }
 },
 "nbformat": 4,
 "nbformat_minor": 4
}
